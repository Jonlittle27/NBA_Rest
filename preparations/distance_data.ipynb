{
 "cells": [
  {
   "cell_type": "code",
   "execution_count": 1,
   "metadata": {},
   "outputs": [],
   "source": [
    "#Joining stadium coordinates to get distance information"
   ]
  },
  {
   "cell_type": "code",
   "execution_count": 2,
   "metadata": {},
   "outputs": [],
   "source": [
    "#dependencies\n",
    "import pandas as pd\n",
    "from geopy import distance"
   ]
  },
  {
   "cell_type": "code",
   "execution_count": 3,
   "metadata": {},
   "outputs": [],
   "source": [
    "#setting the stadium coordinates, key is the 3 letter team code\n",
    "stadiums = {\n",
    "    'MIL': (43.0451,  87.9174),\n",
    "    'TOR': (43.6435,  79.3791),\n",
    "    'BOS': (42.3662, 71.0621),\n",
    "    'MIA': (25.7814,  80.1870),\n",
    "    'IND': (39.7640,  86.1555), \n",
    "    'PHI': (39.9012, 75.1720), \n",
    "    'BRK': (40.6826, 73.9754), \n",
    "    'ORL': (28.5392, 81.3839), \n",
    "    'WAS': (38.8981, 77.0208), \n",
    "    'CHO': (35.2252, 80.8394), \n",
    "    'CHI': (41.8807, 87.6742), \n",
    "    'NYK': (40.7505, 73.9934), \n",
    "    'DET': (42.3411, 83.0553), \n",
    "    'CLE': (41.4966, 81.6881), \n",
    "    'ATL': (33.7573, 84.3963), \n",
    "    'LAL': (34.0430, 118.2673), \n",
    "    'LAC': (34.0430, 118.2673), \n",
    "    'DEN': (39.7487, 105.0076), \n",
    "    'UTA': (40.7683, 111.9011), \n",
    "    'OKC': (35.4634, 97.5151), \n",
    "    'HOU': (29.7508, 95.3621), \n",
    "    'DAL': (32.7903, 96.8101), \n",
    "    'MEM': (35.1381, 90.0506), \n",
    "    'POR': (45.5316, 122.6668), \n",
    "    'NOP': (33.7114, 78.8844), \n",
    "    'SAC': (38.5802, 121.4997), \n",
    "    'SAS': (29.4272, 98.4375), \n",
    "    'PHO': (33.4457, 112.0712), \n",
    "    'MIN': (44.9795, 93.2761), \n",
    "    'GSW': (37.7680, 122.3877), \n",
    "}"
   ]
  },
  {
   "cell_type": "code",
   "execution_count": null,
   "metadata": {},
   "outputs": [],
   "source": [
    "#importing the combined years dat"
   ]
  }
 ],
 "metadata": {
  "kernelspec": {
   "display_name": "Python 3",
   "language": "python",
   "name": "python3"
  },
  "language_info": {
   "codemirror_mode": {
    "name": "ipython",
    "version": 3
   },
   "file_extension": ".py",
   "mimetype": "text/x-python",
   "name": "python",
   "nbconvert_exporter": "python",
   "pygments_lexer": "ipython3",
   "version": "3.7.6"
  }
 },
 "nbformat": 4,
 "nbformat_minor": 4
}
